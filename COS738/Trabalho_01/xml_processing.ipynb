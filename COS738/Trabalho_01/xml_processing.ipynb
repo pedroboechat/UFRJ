{
 "cells": [
  {
   "cell_type": "markdown",
   "metadata": {},
   "source": [
    "# COS738 - 2022/1 - Busca e Mineração de Texto\n",
    "## Aprenda a processar um documento XML\n",
    "### Aluno:\n",
    "- Pedro Tubenchlak Boechat - 119065050\n",
    "<hr>"
   ]
  },
  {
   "cell_type": "markdown",
   "metadata": {},
   "source": [
    "## 0. Criar pasta para arquivos de saída"
   ]
  },
  {
   "cell_type": "code",
   "execution_count": 1,
   "metadata": {},
   "outputs": [],
   "source": [
    "from os import makedirs\n",
    "makedirs(\"./data\", exist_ok=True)"
   ]
  },
  {
   "cell_type": "markdown",
   "metadata": {},
   "source": [
    "<hr>\n",
    "\n",
    "## 1. `Nome de todos os AUTHOR citados no arquivo cf79.xml`"
   ]
  },
  {
   "cell_type": "markdown",
   "metadata": {},
   "source": [
    "### Importação das bibliotecas"
   ]
  },
  {
   "cell_type": "code",
   "execution_count": 2,
   "metadata": {},
   "outputs": [],
   "source": [
    "import xml.dom as dom"
   ]
  },
  {
   "cell_type": "markdown",
   "metadata": {},
   "source": [
    "### Leitura e parsing do XML usando DOM"
   ]
  },
  {
   "cell_type": "code",
   "execution_count": 3,
   "metadata": {},
   "outputs": [],
   "source": [
    "doc_a = dom.minidom.parse(\"./cystic_fibrosis/cf79.xml\")"
   ]
  },
  {
   "cell_type": "markdown",
   "metadata": {},
   "source": [
    "### Obtenção de todas as tags AUTHOR"
   ]
  },
  {
   "cell_type": "code",
   "execution_count": 4,
   "metadata": {},
   "outputs": [
    {
     "name": "stdout",
     "output_type": "stream",
     "text": [
      "Total: 752\n"
     ]
    }
   ],
   "source": [
    "author_tags = doc_a.getElementsByTagName(\"AUTHOR\")\n",
    "print(\"Total:\", len(author_tags))"
   ]
  },
  {
   "cell_type": "markdown",
   "metadata": {},
   "source": [
    "### Exportação das tags para o arquivo `autores.xml`"
   ]
  },
  {
   "cell_type": "code",
   "execution_count": 5,
   "metadata": {},
   "outputs": [],
   "source": [
    "with open(\"./data/autores.xml\", mode=\"w\") as out:\n",
    "    out.write(\"<?xml version=\\\"1.0\\\"?>\\n\")\n",
    "    out.write(\"<RECORDS>\\n\")\n",
    "    for author in author_tags:\n",
    "        out.write(author.toxml())\n",
    "        out.write(\"\\n\")\n",
    "    out.write(\"</RECORDS>\")"
   ]
  },
  {
   "cell_type": "markdown",
   "metadata": {},
   "source": [
    "### Exportação das tags para o arquivo `autores.txt`"
   ]
  },
  {
   "cell_type": "code",
   "execution_count": 6,
   "metadata": {},
   "outputs": [],
   "source": [
    "with open(\"./data/autores.txt\", mode=\"w\") as out:\n",
    "    for author in author_tags:\n",
    "        for node in author.childNodes:\n",
    "            if node.nodeType == node.TEXT_NODE:\n",
    "                out.write(node.data)\n",
    "                out.write(\"\\n\")"
   ]
  },
  {
   "cell_type": "markdown",
   "metadata": {},
   "source": [
    "<hr>\n",
    "\n",
    "## 2. `Nome de todos os TITLE citados no arquivo cf79.xml`"
   ]
  },
  {
   "cell_type": "markdown",
   "metadata": {},
   "source": [
    "### Importação das bibliotecas"
   ]
  },
  {
   "cell_type": "code",
   "execution_count": 7,
   "metadata": {},
   "outputs": [],
   "source": [
    "import xml.sax as sax\n",
    "import re"
   ]
  },
  {
   "cell_type": "markdown",
   "metadata": {},
   "source": [
    "### Definição e instanciação do ContentHandler"
   ]
  },
  {
   "cell_type": "code",
   "execution_count": 8,
   "metadata": {},
   "outputs": [],
   "source": [
    "class CF_Handler(sax.ContentHandler):\n",
    "    def __init__(self):\n",
    "        self._current = \"\"\n",
    "        self.title = []\n",
    "        self._temp = \"\"\n",
    "\n",
    "    # Call when an elements ends\n",
    "    def startElement(self, tag, attributes):\n",
    "        self._current = tag\n",
    "\n",
    "    # Call when an elements ends\n",
    "    def endElement(self, tag):\n",
    "        if self._current == \"TITLE\":\n",
    "            self.title.append(\n",
    "                re.sub(\n",
    "                    r\"\\s\\s+\",\n",
    "                    \" \",\n",
    "                    self._temp.replace(\"\\n\", \" \")\n",
    "                )\n",
    "            )\n",
    "        self._current = \"\"\n",
    "        self._temp = \"\"\n",
    "\n",
    "   # Call when a character is read\n",
    "    def characters(self, content):\n",
    "        if self._current == \"TITLE\":\n",
    "            self._temp += content\n",
    "\n",
    "doc_b = CF_Handler()"
   ]
  },
  {
   "cell_type": "markdown",
   "metadata": {},
   "source": [
    "### Parsing do XML usando o SAX com o handler customizado"
   ]
  },
  {
   "cell_type": "code",
   "execution_count": 9,
   "metadata": {},
   "outputs": [],
   "source": [
    "parser = sax.make_parser()\n",
    "parser.setFeature(sax.handler.feature_namespaces, 0)\n",
    "parser.setContentHandler(doc_b)\n",
    "parser.parse(\"./cystic_fibrosis/cf79.xml\")"
   ]
  },
  {
   "cell_type": "markdown",
   "metadata": {},
   "source": [
    "### Obtenção de todas as tags TITLE"
   ]
  },
  {
   "cell_type": "code",
   "execution_count": 10,
   "metadata": {},
   "outputs": [
    {
     "name": "stdout",
     "output_type": "stream",
     "text": [
      "Total: 259\n"
     ]
    }
   ],
   "source": [
    "title_tags = doc_b.title\n",
    "print(\"Total:\", len(title_tags))"
   ]
  },
  {
   "cell_type": "markdown",
   "metadata": {},
   "source": [
    "### Exportação das tags para o arquivo `titulo.xml`"
   ]
  },
  {
   "cell_type": "code",
   "execution_count": 11,
   "metadata": {},
   "outputs": [],
   "source": [
    "with open(\"./data/titulo.xml\", mode=\"w\") as out:\n",
    "    out.write(\"<?xml version=\\\"1.0\\\"?>\\n\")\n",
    "    out.write(\"<RECORDS>\\n\")\n",
    "    for title in title_tags:\n",
    "        out.write(\"<TITLE>\")\n",
    "        out.write(title)\n",
    "        out.write(\"</TITLE>\")\n",
    "        out.write(\"\\n\")\n",
    "    out.write(\"</RECORDS>\")"
   ]
  },
  {
   "cell_type": "markdown",
   "metadata": {},
   "source": [
    "### Exportação das tags para o arquivo `titulo.txt`"
   ]
  },
  {
   "cell_type": "code",
   "execution_count": 12,
   "metadata": {},
   "outputs": [],
   "source": [
    "with open(\"./data/titulo.txt\", mode=\"w\") as out:\n",
    "    for title in title_tags:\n",
    "        out.write(title)\n",
    "        out.write(\"\\n\")"
   ]
  }
 ],
 "metadata": {
  "interpreter": {
   "hash": "ac59ebe37160ed0dfa835113d9b8498d9f09ceb179beaac4002f036b9467c963"
  },
  "kernelspec": {
   "display_name": "Python 3.9.7 64-bit",
   "language": "python",
   "name": "python3"
  },
  "language_info": {
   "codemirror_mode": {
    "name": "ipython",
    "version": 3
   },
   "file_extension": ".py",
   "mimetype": "text/x-python",
   "name": "python",
   "nbconvert_exporter": "python",
   "pygments_lexer": "ipython3",
   "version": "3.9.7"
  },
  "orig_nbformat": 4
 },
 "nbformat": 4,
 "nbformat_minor": 2
}
